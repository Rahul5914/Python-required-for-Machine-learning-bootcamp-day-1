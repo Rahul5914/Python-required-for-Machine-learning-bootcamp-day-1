{
  "nbformat": 4,
  "nbformat_minor": 0,
  "metadata": {
    "colab": {
      "provenance": []
    },
    "kernelspec": {
      "name": "python3",
      "display_name": "Python 3"
    },
    "language_info": {
      "name": "python"
    }
  },
  "cells": [
    {
      "cell_type": "markdown",
      "source": [
        "By Rahul kumar\n",
        "\n",
        "github - https://github.com/Rahul5914\n",
        "\n",
        "youtube - https://youtube.com/@biharwaleenginner?si=n-b4mPbcUZ35wt7P\n",
        "\n",
        "linkedin - https://www.linkedin.com/in/rahul-kumar-3829b322a/\n",
        "\n",
        "instagram - @therahul5914"
      ],
      "metadata": {
        "id": "0R3iW-zAT78z"
      }
    },
    {
      "cell_type": "markdown",
      "source": [
        "Basic Data Types in Python:\n",
        "\n",
        "1. Integer\n",
        "2. Floating Point\n",
        "3. Complex\n",
        "4. Boolean\n",
        "5. String"
      ],
      "metadata": {
        "id": "txvfUwPafB2M"
      }
    },
    {
      "cell_type": "code",
      "execution_count": null,
      "metadata": {
        "colab": {
          "base_uri": "https://localhost:8080/"
        },
        "id": "e4MzSWcAezJ8",
        "outputId": "a6fe5523-f6d5-469b-c71c-fddbcce68add"
      },
      "outputs": [
        {
          "output_type": "stream",
          "name": "stdout",
          "text": [
            "8\n"
          ]
        }
      ],
      "source": [
        "# integers\n",
        "a = 8\n",
        "print(a)"
      ]
    },
    {
      "cell_type": "code",
      "source": [
        "type(a)"
      ],
      "metadata": {
        "colab": {
          "base_uri": "https://localhost:8080/"
        },
        "id": "TAflqpJLgnUP",
        "outputId": "e9e7b947-a16a-4d8c-ebd7-843131f9cac1"
      },
      "execution_count": null,
      "outputs": [
        {
          "output_type": "execute_result",
          "data": {
            "text/plain": [
              "int"
            ]
          },
          "metadata": {},
          "execution_count": 2
        }
      ]
    },
    {
      "cell_type": "code",
      "source": [
        "\n",
        "# floating point\n",
        "b = 2.3\n",
        "print(b)\n",
        "type(b)"
      ],
      "metadata": {
        "colab": {
          "base_uri": "https://localhost:8080/"
        },
        "id": "T3UYahuzgw0i",
        "outputId": "f0b424da-75df-4f01-d28c-908dda84f823"
      },
      "execution_count": null,
      "outputs": [
        {
          "output_type": "stream",
          "name": "stdout",
          "text": [
            "2.3\n"
          ]
        },
        {
          "output_type": "execute_result",
          "data": {
            "text/plain": [
              "float"
            ]
          },
          "metadata": {},
          "execution_count": 3
        }
      ]
    },
    {
      "cell_type": "code",
      "source": [
        "# complex numbers\n",
        "c = 1 + 3j\n",
        "print(c)\n",
        "type(c)"
      ],
      "metadata": {
        "colab": {
          "base_uri": "https://localhost:8080/"
        },
        "id": "SUS1613-g2Ha",
        "outputId": "fc492efa-b972-4d4c-8c19-3b3a75d165a0"
      },
      "execution_count": null,
      "outputs": [
        {
          "output_type": "stream",
          "name": "stdout",
          "text": [
            "(1+3j)\n"
          ]
        },
        {
          "output_type": "execute_result",
          "data": {
            "text/plain": [
              "complex"
            ]
          },
          "metadata": {},
          "execution_count": 4
        }
      ]
    },
    {
      "cell_type": "markdown",
      "source": [
        "Conversion of one data type to another"
      ],
      "metadata": {
        "id": "m-fPok4IhA0X"
      }
    },
    {
      "cell_type": "code",
      "source": [
        "# int to float\n",
        "x = 5\n",
        "print(x)\n",
        "type(x)"
      ],
      "metadata": {
        "colab": {
          "base_uri": "https://localhost:8080/"
        },
        "id": "aGbQFTukg6Jk",
        "outputId": "5243cda7-4a4d-4aa6-f1aa-7ee2041ce21e"
      },
      "execution_count": null,
      "outputs": [
        {
          "output_type": "stream",
          "name": "stdout",
          "text": [
            "5\n"
          ]
        },
        {
          "output_type": "execute_result",
          "data": {
            "text/plain": [
              "int"
            ]
          },
          "metadata": {},
          "execution_count": 5
        }
      ]
    },
    {
      "cell_type": "code",
      "source": [
        "y = float(x)\n",
        "print(y)\n",
        "type(y)"
      ],
      "metadata": {
        "colab": {
          "base_uri": "https://localhost:8080/"
        },
        "id": "0isGKvKVhMz5",
        "outputId": "dc525e9b-ef80-4c19-dcac-cd403a28ecc5"
      },
      "execution_count": null,
      "outputs": [
        {
          "output_type": "stream",
          "name": "stdout",
          "text": [
            "5.0\n"
          ]
        },
        {
          "output_type": "execute_result",
          "data": {
            "text/plain": [
              "float"
            ]
          },
          "metadata": {},
          "execution_count": 6
        }
      ]
    },
    {
      "cell_type": "code",
      "source": [
        "# float to int\n",
        "x = 7.55\n",
        "print(x)\n",
        "type(x)"
      ],
      "metadata": {
        "colab": {
          "base_uri": "https://localhost:8080/"
        },
        "id": "h9c89DSvhQ9B",
        "outputId": "ca8dd27d-a97b-44a9-9ab5-fcfb923ed133"
      },
      "execution_count": null,
      "outputs": [
        {
          "output_type": "stream",
          "name": "stdout",
          "text": [
            "7.55\n"
          ]
        },
        {
          "output_type": "execute_result",
          "data": {
            "text/plain": [
              "float"
            ]
          },
          "metadata": {},
          "execution_count": 8
        }
      ]
    },
    {
      "cell_type": "code",
      "source": [
        "y = int(x)\n",
        "print(y)\n",
        "type(y)"
      ],
      "metadata": {
        "colab": {
          "base_uri": "https://localhost:8080/"
        },
        "id": "ZcQOgN_hhWwT",
        "outputId": "c597d92f-d975-4ab6-fe98-6ecf697cac72"
      },
      "execution_count": null,
      "outputs": [
        {
          "output_type": "stream",
          "name": "stdout",
          "text": [
            "7\n"
          ]
        },
        {
          "output_type": "execute_result",
          "data": {
            "text/plain": [
              "int"
            ]
          },
          "metadata": {},
          "execution_count": 9
        }
      ]
    },
    {
      "cell_type": "markdown",
      "source": [
        "Boolean\n",
        "\n",
        "*True*\n",
        "*False*"
      ],
      "metadata": {
        "id": "dADRXeVohj8M"
      }
    },
    {
      "cell_type": "code",
      "source": [
        "a = True\n",
        "print(a)\n",
        "type(a)"
      ],
      "metadata": {
        "colab": {
          "base_uri": "https://localhost:8080/"
        },
        "id": "uMILD6whheGY",
        "outputId": "2123da49-0525-4a49-e36f-d114c6b476df"
      },
      "execution_count": null,
      "outputs": [
        {
          "output_type": "stream",
          "name": "stdout",
          "text": [
            "True\n"
          ]
        },
        {
          "output_type": "execute_result",
          "data": {
            "text/plain": [
              "bool"
            ]
          },
          "metadata": {},
          "execution_count": 10
        }
      ]
    },
    {
      "cell_type": "code",
      "source": [
        "b = False\n",
        "print(b)\n",
        "type(b)"
      ],
      "metadata": {
        "colab": {
          "base_uri": "https://localhost:8080/"
        },
        "id": "97o2N8XQhtR2",
        "outputId": "d61c4221-a7e3-4003-e3b7-f4d0ed382f5e"
      },
      "execution_count": null,
      "outputs": [
        {
          "output_type": "stream",
          "name": "stdout",
          "text": [
            "False\n"
          ]
        },
        {
          "output_type": "execute_result",
          "data": {
            "text/plain": [
              "bool"
            ]
          },
          "metadata": {},
          "execution_count": 11
        }
      ]
    },
    {
      "cell_type": "code",
      "source": [
        "a = 9 < 3\n",
        "print(a)\n",
        "type(a)"
      ],
      "metadata": {
        "colab": {
          "base_uri": "https://localhost:8080/"
        },
        "id": "dTNadbkkhw9Z",
        "outputId": "e67b18db-0716-4759-870d-ee3337d39507"
      },
      "execution_count": null,
      "outputs": [
        {
          "output_type": "stream",
          "name": "stdout",
          "text": [
            "False\n"
          ]
        },
        {
          "output_type": "execute_result",
          "data": {
            "text/plain": [
              "bool"
            ]
          },
          "metadata": {},
          "execution_count": 12
        }
      ]
    },
    {
      "cell_type": "code",
      "source": [
        "a = 7 > 3\n",
        "print(a)\n",
        "type(a)"
      ],
      "metadata": {
        "colab": {
          "base_uri": "https://localhost:8080/"
        },
        "id": "nEF8xmCvh16j",
        "outputId": "ed61cccb-0bf9-4ab5-f374-c784d1aae140"
      },
      "execution_count": null,
      "outputs": [
        {
          "output_type": "stream",
          "name": "stdout",
          "text": [
            "True\n"
          ]
        },
        {
          "output_type": "execute_result",
          "data": {
            "text/plain": [
              "bool"
            ]
          },
          "metadata": {},
          "execution_count": 13
        }
      ]
    },
    {
      "cell_type": "markdown",
      "source": [
        "String"
      ],
      "metadata": {
        "id": "QiARcIuvh9q2"
      }
    },
    {
      "cell_type": "code",
      "source": [
        "print(\"rahul\")"
      ],
      "metadata": {
        "colab": {
          "base_uri": "https://localhost:8080/"
        },
        "id": "eEyAYFpJh6G-",
        "outputId": "f4865652-46a8-4ce6-cb0c-ed55fbc12d83"
      },
      "execution_count": null,
      "outputs": [
        {
          "output_type": "stream",
          "name": "stdout",
          "text": [
            "rahul\n"
          ]
        }
      ]
    },
    {
      "cell_type": "code",
      "source": [
        "print('Machine Learning')"
      ],
      "metadata": {
        "colab": {
          "base_uri": "https://localhost:8080/"
        },
        "id": "OSLjjn28iHV-",
        "outputId": "32e4a58b-f32c-41e2-b0e1-d445390dd01d"
      },
      "execution_count": null,
      "outputs": [
        {
          "output_type": "stream",
          "name": "stdout",
          "text": [
            "Machine Learning\n"
          ]
        }
      ]
    },
    {
      "cell_type": "code",
      "source": [
        "my_string = \"Machine Learning\"\n",
        "print(my_string)\n",
        "type(my_string)"
      ],
      "metadata": {
        "colab": {
          "base_uri": "https://localhost:8080/"
        },
        "id": "ul6N7rLliN46",
        "outputId": "5b38c539-2e13-480d-c06b-77da23e35d80"
      },
      "execution_count": null,
      "outputs": [
        {
          "output_type": "stream",
          "name": "stdout",
          "text": [
            "Machine Learning\n"
          ]
        },
        {
          "output_type": "execute_result",
          "data": {
            "text/plain": [
              "str"
            ]
          },
          "metadata": {},
          "execution_count": 17
        }
      ]
    },
    {
      "cell_type": "code",
      "source": [
        "print(\"rahul\"*5)"
      ],
      "metadata": {
        "colab": {
          "base_uri": "https://localhost:8080/"
        },
        "id": "UilY8TJ5iSYU",
        "outputId": "70df64a1-4e5d-4f90-97f1-22b131d4d9b0"
      },
      "execution_count": null,
      "outputs": [
        {
          "output_type": "stream",
          "name": "stdout",
          "text": [
            "rahulrahulrahulrahulrahul\n"
          ]
        }
      ]
    },
    {
      "cell_type": "markdown",
      "source": [
        "* slicing in string*"
      ],
      "metadata": {
        "id": "KyxvzcXNiiQA"
      }
    },
    {
      "cell_type": "code",
      "source": [
        "my_string = \"Programming\""
      ],
      "metadata": {
        "id": "_mTMzLPFieBe"
      },
      "execution_count": 1,
      "outputs": []
    },
    {
      "cell_type": "code",
      "source": [
        "print(my_string[0:6])"
      ],
      "metadata": {
        "colab": {
          "base_uri": "https://localhost:8080/"
        },
        "id": "M30SxgwTXm7c",
        "outputId": "fef03ce5-6685-4753-d8e5-3ea87aea0bbe"
      },
      "execution_count": 3,
      "outputs": [
        {
          "output_type": "stream",
          "name": "stdout",
          "text": [
            "Progra\n"
          ]
        }
      ]
    },
    {
      "cell_type": "code",
      "source": [
        "print(my_string[1:5])    # values from index 1 to 5-1 will be sliced"
      ],
      "metadata": {
        "colab": {
          "base_uri": "https://localhost:8080/"
        },
        "id": "Ndsk40XbiqI4",
        "outputId": "85f5adf9-0d9b-4390-9691-36c315626e34"
      },
      "execution_count": null,
      "outputs": [
        {
          "output_type": "stream",
          "name": "stdout",
          "text": [
            "rogr\n"
          ]
        }
      ]
    },
    {
      "cell_type": "markdown",
      "source": [
        "step in python\n",
        "\n",
        "The step is each increment it goes up by. For instance, if you had range( 0, 100, 2 ) it would be 0,2,4,6,8,10,…"
      ],
      "metadata": {
        "id": "DcCKQVqNYJhJ"
      }
    },
    {
      "cell_type": "code",
      "source": [
        "# step\n",
        "print(my_string[0:10:2])"
      ],
      "metadata": {
        "colab": {
          "base_uri": "https://localhost:8080/"
        },
        "id": "Zv86Q2oXivJX",
        "outputId": "44973f32-8304-46aa-815a-17a2966e2ed0"
      },
      "execution_count": null,
      "outputs": [
        {
          "output_type": "stream",
          "name": "stdout",
          "text": [
            "Pormi\n"
          ]
        }
      ]
    },
    {
      "cell_type": "markdown",
      "source": [
        "*String* *Concatenation*"
      ],
      "metadata": {
        "id": "PMp2NW2Ai_Ql"
      }
    },
    {
      "cell_type": "code",
      "source": [
        "word_1 = 'Rahul '\n",
        "word_2 = 'Aryan'\n",
        "\n",
        "print(word_1+word_2)"
      ],
      "metadata": {
        "colab": {
          "base_uri": "https://localhost:8080/"
        },
        "id": "c6lIS3f_i7EF",
        "outputId": "a3b14d9c-a44c-461d-b485-e51818334e44"
      },
      "execution_count": null,
      "outputs": [
        {
          "output_type": "stream",
          "name": "stdout",
          "text": [
            "Rahul Aryan\n"
          ]
        }
      ]
    },
    {
      "cell_type": "code",
      "source": [],
      "metadata": {
        "id": "Eq-2k_vOjM9r"
      },
      "execution_count": null,
      "outputs": []
    }
  ]
}