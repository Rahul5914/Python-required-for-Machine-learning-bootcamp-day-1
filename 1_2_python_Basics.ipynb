{
  "nbformat": 4,
  "nbformat_minor": 0,
  "metadata": {
    "colab": {
      "provenance": [],
      "collapsed_sections": [
        "s7qaSbGmzVoF"
      ]
    },
    "kernelspec": {
      "name": "python3",
      "display_name": "Python 3"
    },
    "language_info": {
      "name": "python"
    }
  },
  "cells": [
    {
      "cell_type": "markdown",
      "source": [
        "By Rahul kumar\n",
        "\n",
        "github - https://github.com/Rahul5914\n",
        "\n",
        "youtube - https://youtube.com/@biharwaleenginner?si=n-b4mPbcUZ35wt7P\n",
        "\n",
        "linkedin - https://www.linkedin.com/in/rahul-kumar-3829b322a/\n",
        "\n",
        "instagram - @therahul5914"
      ],
      "metadata": {
        "id": "jmYT49gZT_tT"
      }
    },
    {
      "cell_type": "markdown",
      "source": [
        "Programming Languages used for Machine Learning:\n",
        "\n",
        "\n",
        "1.  python - general purpose lang used in web dev and other cases also\n",
        "2.  R langugage - mainly for statsical based. hence pythn pref over R\n",
        "\n"
      ],
      "metadata": {
        "id": "-AWgJuBTyTeP"
      }
    },
    {
      "cell_type": "markdown",
      "source": [
        "#print *function*\n",
        "\n",
        "*   use \" \" / ' ' quote for strings only not var,int,float\n",
        "*   \n",
        "\n"
      ],
      "metadata": {
        "id": "CRRhUUqwyvY7"
      }
    },
    {
      "cell_type": "code",
      "execution_count": null,
      "metadata": {
        "colab": {
          "base_uri": "https://localhost:8080/"
        },
        "id": "ruy0JG7rwDg9",
        "outputId": "4c761803-fcd6-4522-f99b-52efdc72e97f"
      },
      "outputs": [
        {
          "output_type": "stream",
          "name": "stdout",
          "text": [
            "ML\n"
          ]
        }
      ],
      "source": [
        "print('ML')"
      ]
    },
    {
      "cell_type": "code",
      "source": [
        "print('ML' + ' project')"
      ],
      "metadata": {
        "colab": {
          "base_uri": "https://localhost:8080/"
        },
        "id": "obb0jLZMy54e",
        "outputId": "da48285d-c8ae-490c-b304-4c5e01084464"
      },
      "execution_count": null,
      "outputs": [
        {
          "output_type": "stream",
          "name": "stdout",
          "text": [
            "ML project\n"
          ]
        }
      ]
    },
    {
      "cell_type": "code",
      "source": [
        "print(2)"
      ],
      "metadata": {
        "colab": {
          "base_uri": "https://localhost:8080/"
        },
        "id": "Et--p2nbzHRe",
        "outputId": "d1c9b71e-3cdb-4194-c4a0-424489b0c3f4"
      },
      "execution_count": null,
      "outputs": [
        {
          "output_type": "stream",
          "name": "stdout",
          "text": [
            "2\n"
          ]
        }
      ]
    },
    {
      "cell_type": "code",
      "source": [
        "print(2*3)"
      ],
      "metadata": {
        "colab": {
          "base_uri": "https://localhost:8080/"
        },
        "id": "0WdpkHAfzLRD",
        "outputId": "5d026ea0-6add-463e-a411-bf2e337ebc49"
      },
      "execution_count": null,
      "outputs": [
        {
          "output_type": "stream",
          "name": "stdout",
          "text": [
            "6\n"
          ]
        }
      ]
    },
    {
      "cell_type": "code",
      "source": [
        "print(2+3)"
      ],
      "metadata": {
        "colab": {
          "base_uri": "https://localhost:8080/"
        },
        "id": "5Dkl5khXzP6f",
        "outputId": "931d5fd3-2fcb-4c0a-d37f-551e3819be63"
      },
      "execution_count": null,
      "outputs": [
        {
          "output_type": "stream",
          "name": "stdout",
          "text": [
            "5\n"
          ]
        }
      ]
    },
    {
      "cell_type": "markdown",
      "source": [
        "#Basics data type\n",
        "\n",
        "1.   int - no w/o dec. point\n",
        "2.   float - decimals\n",
        "3.   str- string mainly(text + sentences)\n",
        "\n",
        "\n",
        "*   \n",
        "*   type keywords tells what data type is it?\n",
        "\n",
        "\n",
        "\n"
      ],
      "metadata": {
        "id": "s7qaSbGmzVoF"
      }
    },
    {
      "cell_type": "code",
      "source": [
        "type(4)"
      ],
      "metadata": {
        "colab": {
          "base_uri": "https://localhost:8080/"
        },
        "id": "OBlmixftzS_Z",
        "outputId": "3d89e28a-50d7-4819-a36f-3fafddaf3b5d"
      },
      "execution_count": null,
      "outputs": [
        {
          "output_type": "execute_result",
          "data": {
            "text/plain": [
              "int"
            ]
          },
          "metadata": {},
          "execution_count": 6
        }
      ]
    },
    {
      "cell_type": "code",
      "source": [
        "type(2.84)"
      ],
      "metadata": {
        "colab": {
          "base_uri": "https://localhost:8080/"
        },
        "id": "4hoe8ACU0_Wi",
        "outputId": "18bea52f-a3ca-47ec-c8ca-4ddcc4be94b3"
      },
      "execution_count": null,
      "outputs": [
        {
          "output_type": "execute_result",
          "data": {
            "text/plain": [
              "float"
            ]
          },
          "metadata": {},
          "execution_count": 7
        }
      ]
    },
    {
      "cell_type": "code",
      "source": [
        "type('rahul')"
      ],
      "metadata": {
        "colab": {
          "base_uri": "https://localhost:8080/"
        },
        "id": "vK4gTGmw1DyU",
        "outputId": "05a0f50c-6ed1-4ae0-a787-7e8fb4c98507"
      },
      "execution_count": null,
      "outputs": [
        {
          "output_type": "execute_result",
          "data": {
            "text/plain": [
              "str"
            ]
          },
          "metadata": {},
          "execution_count": 8
        }
      ]
    },
    {
      "cell_type": "markdown",
      "source": [
        "#Constants & Variables"
      ],
      "metadata": {
        "id": "xjSnePcx1WAr"
      }
    },
    {
      "cell_type": "code",
      "source": [
        "marvel_super_hero = \"Iron Man\"\n",
        "print(marvel_super_hero)"
      ],
      "metadata": {
        "colab": {
          "base_uri": "https://localhost:8080/"
        },
        "id": "M6GFdtmQ1GLE",
        "outputId": "361c48fb-9fd0-437f-9658-a67b8ac7c57e"
      },
      "execution_count": null,
      "outputs": [
        {
          "output_type": "stream",
          "name": "stdout",
          "text": [
            "Iron Man\n"
          ]
        }
      ]
    },
    {
      "cell_type": "code",
      "source": [
        "hero1 , hero2 , hero3 = \"Iron Man\" , \"Captain America\" , \"Bat Man\"\n",
        "print(hero1)\n",
        "print(hero2)\n",
        "print(hero3)"
      ],
      "metadata": {
        "colab": {
          "base_uri": "https://localhost:8080/"
        },
        "id": "-tbVYEBp3hI-",
        "outputId": "a051a2f4-802b-43b3-d898-67de20ca8104"
      },
      "execution_count": null,
      "outputs": [
        {
          "output_type": "stream",
          "name": "stdout",
          "text": [
            "Iron Man\n",
            "Captain America\n",
            "Bat Man\n"
          ]
        }
      ]
    },
    {
      "cell_type": "code",
      "source": [
        "\n",
        "marvel_super_hero = \"Captain America\"\n",
        "print(marvel_super_hero)"
      ],
      "metadata": {
        "colab": {
          "base_uri": "https://localhost:8080/"
        },
        "id": "6uUjA1oI3770",
        "outputId": "9f67574b-109b-4d63-8b53-b02dcf06a518"
      },
      "execution_count": null,
      "outputs": [
        {
          "output_type": "stream",
          "name": "stdout",
          "text": [
            "Captain America\n"
          ]
        }
      ]
    },
    {
      "cell_type": "markdown",
      "source": [
        "multilpe value to same variable"
      ],
      "metadata": {
        "id": "pcGT0XIKc6mM"
      }
    },
    {
      "cell_type": "code",
      "source": [
        "x = y = z = 23\n",
        "print(x)\n",
        "print(y)\n",
        "print(z)"
      ],
      "metadata": {
        "colab": {
          "base_uri": "https://localhost:8080/"
        },
        "id": "0WUYYJUy4Ims",
        "outputId": "9be04c82-afc4-4ee3-d0c5-f5f1524d6089"
      },
      "execution_count": null,
      "outputs": [
        {
          "output_type": "stream",
          "name": "stdout",
          "text": [
            "23\n",
            "23\n",
            "23\n"
          ]
        }
      ]
    },
    {
      "cell_type": "markdown",
      "source": [
        "#input Function\n",
        "\n",
        "\n",
        "*   prev print funtion like in printf it's o/p command\n",
        "\n",
        "*   i/p funtion like scanf in c it's i/p command take valu/ip from users\n",
        "\n"
      ],
      "metadata": {
        "id": "bwz1J-AldKQI"
      }
    },
    {
      "cell_type": "code",
      "source": [
        "number_1 = input(\"Enter the first number : \")\n",
        "number_2 = input(\"Enter the second number : \")\n",
        "\n",
        "sum = number_1 + number_2\n",
        "print(sum)"
      ],
      "metadata": {
        "colab": {
          "base_uri": "https://localhost:8080/"
        },
        "id": "Z4Ghwi5GdIH3",
        "outputId": "da1b02e2-6df1-4137-8a54-3fe35b4e70fc"
      },
      "execution_count": null,
      "outputs": [
        {
          "output_type": "stream",
          "name": "stdout",
          "text": [
            "Enter the first number : 4\n",
            "Enter the second number : 5\n",
            "45\n"
          ]
        }
      ]
    },
    {
      "cell_type": "markdown",
      "source": [
        "i/p funtion assume /treat as string any valu inside function either int,float\n",
        "so,covert sting to int"
      ],
      "metadata": {
        "id": "hPtc2wvYeBAv"
      }
    },
    {
      "cell_type": "code",
      "source": [
        "number_1 = int(input(\"Enter the first number : \"))\n",
        "number_2 = int(input(\"Enter the second number : \"))\n",
        "\n",
        "sum = number_1 + number_2\n",
        "print(sum)"
      ],
      "metadata": {
        "colab": {
          "base_uri": "https://localhost:8080/"
        },
        "id": "e-qx3HjAd7KQ",
        "outputId": "cb23013f-a9d6-4226-9c33-77907fd05714"
      },
      "execution_count": null,
      "outputs": [
        {
          "output_type": "stream",
          "name": "stdout",
          "text": [
            "Enter the first number : 5\n",
            "Enter the second number : 5\n",
            "10\n"
          ]
        }
      ]
    },
    {
      "cell_type": "markdown",
      "source": [
        "#changing data types in python"
      ],
      "metadata": {
        "id": "Q40FD7AoeZ5L"
      }
    },
    {
      "cell_type": "code",
      "source": [
        "num = 5\n",
        "print(float(num))"
      ],
      "metadata": {
        "colab": {
          "base_uri": "https://localhost:8080/"
        },
        "id": "sZ_Kh37WeThH",
        "outputId": "94e306ff-9be2-4b58-a16a-86426787d194"
      },
      "execution_count": null,
      "outputs": [
        {
          "output_type": "stream",
          "name": "stdout",
          "text": [
            "5.0\n"
          ]
        }
      ]
    },
    {
      "cell_type": "code",
      "source": [],
      "metadata": {
        "id": "LU6omuINehHq"
      },
      "execution_count": null,
      "outputs": []
    }
  ]
}