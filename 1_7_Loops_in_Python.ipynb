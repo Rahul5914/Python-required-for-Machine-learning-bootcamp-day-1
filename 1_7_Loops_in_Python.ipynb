{
  "nbformat": 4,
  "nbformat_minor": 0,
  "metadata": {
    "colab": {
      "provenance": []
    },
    "kernelspec": {
      "name": "python3",
      "display_name": "Python 3"
    },
    "language_info": {
      "name": "python"
    }
  },
  "cells": [
    {
      "cell_type": "markdown",
      "source": [
        "By Rahul kumar\n",
        "\n",
        "github - https://github.com/Rahul5914\n",
        "\n",
        "youtube - https://youtube.com/@biharwaleenginner?si=n-b4mPbcUZ35wt7P\n",
        "\n",
        "linkedin - https://www.linkedin.com/in/rahul-kumar-3829b322a/\n",
        "\n",
        "instagram - @therahul5914"
      ],
      "metadata": {
        "id": "hrJRyuCaTc68"
      }
    },
    {
      "cell_type": "markdown",
      "source": [
        "for *loop*"
      ],
      "metadata": {
        "id": "kk4ntuFc9eBE"
      }
    },
    {
      "cell_type": "code",
      "source": [],
      "metadata": {
        "id": "2bj_4PLETppd"
      },
      "execution_count": null,
      "outputs": []
    },
    {
      "cell_type": "code",
      "execution_count": null,
      "metadata": {
        "id": "hm4HulbB3ADO",
        "colab": {
          "base_uri": "https://localhost:8080/"
        },
        "outputId": "a71dd8de-821b-4ac7-c87b-ed4e6a8e5425"
      },
      "outputs": [
        {
          "name": "stdout",
          "output_type": "stream",
          "text": [
            "Enter the price of the laptop : 2000\n",
            "Enter the price of the laptop : 2000\n",
            "Enter the price of the laptop : 1000\n",
            "Enter the price of the laptop : 3000\n",
            "Enter the price of the laptop : 5000\n"
          ]
        }
      ],
      "source": [
        "laptop1 = int(input('Enter the price of the laptop : '))\n",
        "laptop2 = int(input('Enter the price of the laptop : '))\n",
        "laptop3 = int(input('Enter the price of the laptop : '))\n",
        "laptop4 = int(input('Enter the price of the laptop : '))\n",
        "laptop5 = int(input('Enter the price of the laptop : '))"
      ]
    },
    {
      "cell_type": "code",
      "source": [
        "for i in range(7):    # 0,1,2,3,4,5,6\n",
        "  laptop_price = int(input('Enter the price of the laptop : '))"
      ],
      "metadata": {
        "colab": {
          "base_uri": "https://localhost:8080/"
        },
        "id": "5anGgUwJ9iz7",
        "outputId": "f42de3ad-29b6-43a6-fb74-0ebe83a0bd77"
      },
      "execution_count": null,
      "outputs": [
        {
          "name": "stdout",
          "output_type": "stream",
          "text": [
            "Enter the price of the laptop : 600\n",
            "Enter the price of the laptop : 200\n",
            "Enter the price of the laptop : 500\n",
            "Enter the price of the laptop : 400\n",
            "Enter the price of the laptop : 300\n",
            "Enter the price of the laptop : 700\n",
            "Enter the price of the laptop : 800\n"
          ]
        }
      ]
    },
    {
      "cell_type": "code",
      "source": [
        "numbers = [50, 100, 150, 200]\n",
        "\n",
        "print(numbers[0])\n",
        "print(numbers[1])\n",
        "print(numbers[2])\n",
        "print(numbers[3])"
      ],
      "metadata": {
        "colab": {
          "base_uri": "https://localhost:8080/"
        },
        "id": "oOUe--Si9zFW",
        "outputId": "c84b2edf-bf6b-4eb0-a812-6e14836f09ed"
      },
      "execution_count": null,
      "outputs": [
        {
          "output_type": "stream",
          "name": "stdout",
          "text": [
            "50\n",
            "100\n",
            "150\n",
            "200\n"
          ]
        }
      ]
    },
    {
      "cell_type": "code",
      "source": [
        "numbers = [50, 100, 150, 200]\n",
        "\n",
        "for i in numbers:\n",
        "  print(i)"
      ],
      "metadata": {
        "colab": {
          "base_uri": "https://localhost:8080/"
        },
        "id": "HIg7lDW7-CdU",
        "outputId": "05ac12c7-11d4-4f43-d20c-eb6eb3da2b39"
      },
      "execution_count": null,
      "outputs": [
        {
          "output_type": "stream",
          "name": "stdout",
          "text": [
            "50\n",
            "100\n",
            "150\n",
            "200\n"
          ]
        }
      ]
    },
    {
      "cell_type": "markdown",
      "source": [
        "While Loop\n",
        "\n",
        "while condition:\n",
        "    \n",
        "  statement"
      ],
      "metadata": {
        "id": "EZDkuVhv-Kvf"
      }
    },
    {
      "cell_type": "code",
      "source": [
        "i = 0\n",
        "\n",
        "while i<10:\n",
        "  print(i)\n",
        "  i += 1"
      ],
      "metadata": {
        "colab": {
          "base_uri": "https://localhost:8080/"
        },
        "id": "XbslJdUf-G5C",
        "outputId": "40e46a65-27f9-4ba8-c81c-01d7c5c0ba84"
      },
      "execution_count": null,
      "outputs": [
        {
          "output_type": "stream",
          "name": "stdout",
          "text": [
            "0\n",
            "1\n",
            "2\n",
            "3\n",
            "4\n",
            "5\n",
            "6\n",
            "7\n",
            "8\n",
            "9\n"
          ]
        }
      ]
    },
    {
      "cell_type": "code",
      "source": [
        "i = 5\n",
        "\n",
        "while i<3:\n",
        "  print(i)\n",
        "  i += 1"
      ],
      "metadata": {
        "id": "J0D5BtjN-clY"
      },
      "execution_count": null,
      "outputs": []
    },
    {
      "cell_type": "code",
      "source": [],
      "metadata": {
        "id": "OVi_NwNX-f_c"
      },
      "execution_count": null,
      "outputs": []
    }
  ]
}