{
  "nbformat": 4,
  "nbformat_minor": 0,
  "metadata": {
    "colab": {
      "provenance": []
    },
    "kernelspec": {
      "name": "python3",
      "display_name": "Python 3"
    },
    "language_info": {
      "name": "python"
    }
  },
  "cells": [
    {
      "cell_type": "markdown",
      "source": [
        "By Rahul kumar\n",
        "\n",
        "github - https://github.com/Rahul5914\n",
        "\n",
        "youtube - https://youtube.com/@biharwaleenginner?si=n-b4mPbcUZ35wt7P\n",
        "\n",
        "linkedin - https://www.linkedin.com/in/rahul-kumar-3829b322a/\n",
        "\n",
        "instagram - @therahul5914"
      ],
      "metadata": {
        "id": "KbQHQhlrTK6v"
      }
    },
    {
      "cell_type": "markdown",
      "source": [
        "Functions:\n",
        "\n",
        "Function is a block of code that can be reused in a Program\n",
        "\n",
        "Factorial of a Number\n",
        "\n",
        "Factorial of a number is the product of all the positive integers less than or equal to the given number\n",
        "\n",
        "Factorial of 5 = 5 x 4 x 3 x 2 x 1 = 120"
      ],
      "metadata": {
        "id": "Xi570j92-uz2"
      }
    },
    {
      "cell_type": "code",
      "execution_count": null,
      "metadata": {
        "colab": {
          "base_uri": "https://localhost:8080/"
        },
        "id": "K_dcyGgf-qdp",
        "outputId": "f8473eeb-94e2-48db-eb87-1c0ffabdbec6"
      },
      "outputs": [
        {
          "output_type": "stream",
          "name": "stdout",
          "text": [
            " Enter a number to find its factorial : 5\n",
            "The factorial of  5  is 120\n"
          ]
        }
      ],
      "source": [
        "number = int(input(' Enter a number to find its factorial : '))\n",
        "\n",
        "factorial = 1\n",
        "\n",
        "if number == 0:\n",
        "  print(' The Factorial of 0 is 1')\n",
        "\n",
        "else:\n",
        "  for i in range(1, number+1):\n",
        "    factorial = factorial*i\n",
        "  print('The factorial of ',number,' is',factorial)"
      ]
    },
    {
      "cell_type": "markdown",
      "source": [
        "Factoraial Function"
      ],
      "metadata": {
        "id": "XBx1OQVx_SIw"
      }
    },
    {
      "cell_type": "code",
      "source": [
        "def factorial_value(num):\n",
        "\n",
        "  factorial = 1\n",
        "\n",
        "  if num == 0:\n",
        "    return factorial\n",
        "\n",
        "  else:\n",
        "    for i in range(1, num+1):\n",
        "      factorial = factorial*i\n",
        "    return factorial"
      ],
      "metadata": {
        "id": "_OSiF1xm-6_H"
      },
      "execution_count": null,
      "outputs": []
    },
    {
      "cell_type": "code",
      "source": [
        "print(factorial_value(5))"
      ],
      "metadata": {
        "colab": {
          "base_uri": "https://localhost:8080/"
        },
        "id": "sh360_XM_Wmf",
        "outputId": "81597b3f-c093-4a0d-90cb-cdba0a63c7a3"
      },
      "execution_count": null,
      "outputs": [
        {
          "output_type": "stream",
          "name": "stdout",
          "text": [
            "120\n"
          ]
        }
      ]
    },
    {
      "cell_type": "code",
      "source": [
        "print(factorial_value(10))"
      ],
      "metadata": {
        "id": "YvgF7vvq_aMV",
        "outputId": "a0703ebd-45f8-4476-b5e7-67603e61f055",
        "colab": {
          "base_uri": "https://localhost:8080/"
        }
      },
      "execution_count": null,
      "outputs": [
        {
          "output_type": "stream",
          "name": "stdout",
          "text": [
            "3628800\n"
          ]
        }
      ]
    },
    {
      "cell_type": "code",
      "source": [
        "print(factorial_value(6))"
      ],
      "metadata": {
        "id": "clB9yZvE_cuQ",
        "outputId": "f8e927a3-065c-47b5-f834-36cad875dbdc",
        "colab": {
          "base_uri": "https://localhost:8080/"
        }
      },
      "execution_count": null,
      "outputs": [
        {
          "output_type": "stream",
          "name": "stdout",
          "text": [
            "720\n"
          ]
        }
      ]
    },
    {
      "cell_type": "code",
      "source": [],
      "metadata": {
        "id": "d__flpGj_gUA"
      },
      "execution_count": null,
      "outputs": []
    }
  ]
}